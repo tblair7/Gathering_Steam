{
 "cells": [
  {
   "cell_type": "code",
   "execution_count": 1,
   "metadata": {},
   "outputs": [],
   "source": [
    "import pickle as pckl\n",
    "import pandas as pd\n",
    "import numpy as np\n",
    "import datetime\n",
    "\n",
    "import windowing_function"
   ]
  },
  {
   "cell_type": "code",
   "execution_count": 7,
   "metadata": {},
   "outputs": [],
   "source": [
    "df = pckl.load(open('ARK_sorted_data.pckl','rb'))"
   ]
  },
  {
   "cell_type": "code",
   "execution_count": 3,
   "metadata": {},
   "outputs": [],
   "source": [
    "window_days = 1"
   ]
  },
  {
   "cell_type": "code",
   "execution_count": 4,
   "metadata": {},
   "outputs": [],
   "source": [
    "df = df.iloc[:1000]"
   ]
  },
  {
   "cell_type": "code",
   "execution_count": 8,
   "metadata": {},
   "outputs": [],
   "source": [
    "window_1day_ARK = windowing_function.window_df(df, window_days)"
   ]
  },
  {
   "cell_type": "code",
   "execution_count": 9,
   "metadata": {},
   "outputs": [
    {
     "data": {
      "text/html": [
       "<div>\n",
       "<style scoped>\n",
       "    .dataframe tbody tr th:only-of-type {\n",
       "        vertical-align: middle;\n",
       "    }\n",
       "\n",
       "    .dataframe tbody tr th {\n",
       "        vertical-align: top;\n",
       "    }\n",
       "\n",
       "    .dataframe thead th {\n",
       "        text-align: right;\n",
       "    }\n",
       "</style>\n",
       "<table border=\"1\" class=\"dataframe\">\n",
       "  <thead>\n",
       "    <tr style=\"text-align: right;\">\n",
       "      <th></th>\n",
       "      <th>time_of_review</th>\n",
       "      <th>reviews</th>\n",
       "      <th>upvoted</th>\n",
       "      <th>upvotes_window</th>\n",
       "      <th>total_window</th>\n",
       "      <th>percent_window</th>\n",
       "      <th>time_of_review_unix</th>\n",
       "      <th>minutes_played</th>\n",
       "    </tr>\n",
       "  </thead>\n",
       "  <tbody>\n",
       "    <tr>\n",
       "      <th>107101</th>\n",
       "      <td>2019-01-20 18:10:36</td>\n",
       "      <td>So i have spent over 24 hours trying to log in...</td>\n",
       "      <td>False</td>\n",
       "      <td>21</td>\n",
       "      <td>35</td>\n",
       "      <td>0.600000</td>\n",
       "      <td>1.548008e+09</td>\n",
       "      <td>575</td>\n",
       "    </tr>\n",
       "    <tr>\n",
       "      <th>107102</th>\n",
       "      <td>2019-01-20 18:29:28</td>\n",
       "      <td>\"Disk space required: 101093 mb\" oh my lord</td>\n",
       "      <td>False</td>\n",
       "      <td>21</td>\n",
       "      <td>36</td>\n",
       "      <td>0.583333</td>\n",
       "      <td>1.548009e+09</td>\n",
       "      <td>101</td>\n",
       "    </tr>\n",
       "    <tr>\n",
       "      <th>107103</th>\n",
       "      <td>2019-01-20 19:06:02</td>\n",
       "      <td>Made by the scummiest gaming company ever.</td>\n",
       "      <td>False</td>\n",
       "      <td>20</td>\n",
       "      <td>36</td>\n",
       "      <td>0.555556</td>\n",
       "      <td>1.548011e+09</td>\n",
       "      <td>5473</td>\n",
       "    </tr>\n",
       "    <tr>\n",
       "      <th>107104</th>\n",
       "      <td>2019-01-20 19:41:04</td>\n",
       "      <td>After 30 hours of gameplay, this is how it was...</td>\n",
       "      <td>False</td>\n",
       "      <td>20</td>\n",
       "      <td>37</td>\n",
       "      <td>0.540541</td>\n",
       "      <td>1.548013e+09</td>\n",
       "      <td>2235</td>\n",
       "    </tr>\n",
       "    <tr>\n",
       "      <th>107105</th>\n",
       "      <td>2019-01-20 19:56:32</td>\n",
       "      <td>Cool but  it completly ruined my Graphics Card...</td>\n",
       "      <td>False</td>\n",
       "      <td>20</td>\n",
       "      <td>38</td>\n",
       "      <td>0.526316</td>\n",
       "      <td>1.548014e+09</td>\n",
       "      <td>412</td>\n",
       "    </tr>\n",
       "  </tbody>\n",
       "</table>\n",
       "</div>"
      ],
      "text/plain": [
       "            time_of_review                                            reviews  \\\n",
       "107101 2019-01-20 18:10:36  So i have spent over 24 hours trying to log in...   \n",
       "107102 2019-01-20 18:29:28        \"Disk space required: 101093 mb\" oh my lord   \n",
       "107103 2019-01-20 19:06:02         Made by the scummiest gaming company ever.   \n",
       "107104 2019-01-20 19:41:04  After 30 hours of gameplay, this is how it was...   \n",
       "107105 2019-01-20 19:56:32  Cool but  it completly ruined my Graphics Card...   \n",
       "\n",
       "        upvoted  upvotes_window  total_window  percent_window  \\\n",
       "107101    False              21            35        0.600000   \n",
       "107102    False              21            36        0.583333   \n",
       "107103    False              20            36        0.555556   \n",
       "107104    False              20            37        0.540541   \n",
       "107105    False              20            38        0.526316   \n",
       "\n",
       "        time_of_review_unix  minutes_played  \n",
       "107101         1.548008e+09             575  \n",
       "107102         1.548009e+09             101  \n",
       "107103         1.548011e+09            5473  \n",
       "107104         1.548013e+09            2235  \n",
       "107105         1.548014e+09             412  "
      ]
     },
     "execution_count": 9,
     "metadata": {},
     "output_type": "execute_result"
    }
   ],
   "source": [
    "window_1day_ARK.tail()"
   ]
  },
  {
   "cell_type": "code",
   "execution_count": 10,
   "metadata": {},
   "outputs": [],
   "source": [
    "pckl.dump(window_1day_ARK,open('ARK_1day_window_df.pckl','wb'))"
   ]
  },
  {
   "cell_type": "code",
   "execution_count": 43,
   "metadata": {},
   "outputs": [],
   "source": [
    "upvote_window = []\n",
    "percent_window = []\n",
    "\n",
    "for i in range(len(df)):\n",
    "    \n",
    "    window_close = df['time_of_review_unix'].iloc[i]\n",
    "    window_start = window_close - window_unix\n",
    "    \n",
    "    min_index = min(df.index[df['time_of_review_unix'].between(window_start, \n",
    "                                                               window_close, \n",
    "                                                               inclusive=True)].tolist())\n",
    "    \n",
    "    upvotes_in_period = df['upvotes'].iloc[i] - df['upvotes'].iloc[min_index]\n",
    "    total_votes_period = df['total_votes'].iloc[i] - df['total_votes'].iloc[min_index]\n",
    "    \n",
    "    upvote_window.append(upvotes_in_period)\n",
    "    \n",
    "    if i > 0:\n",
    "        percent_window.append(upvotes_in_period/total_votes_period)\n",
    "    else:\n",
    "        percent_window.append(df['upvotes'].iloc[i]/1)"
   ]
  },
  {
   "cell_type": "code",
   "execution_count": 24,
   "metadata": {},
   "outputs": [],
   "source": [
    "min_index = min(df.index[df['time_of_review_unix'].between(window_start, window_close, inclusive=True)].tolist())"
   ]
  }
 ],
 "metadata": {
  "kernelspec": {
   "display_name": "Python 3",
   "language": "python",
   "name": "python3"
  },
  "language_info": {
   "codemirror_mode": {
    "name": "ipython",
    "version": 3
   },
   "file_extension": ".py",
   "mimetype": "text/x-python",
   "name": "python",
   "nbconvert_exporter": "python",
   "pygments_lexer": "ipython3",
   "version": "3.7.1"
  }
 },
 "nbformat": 4,
 "nbformat_minor": 2
}
