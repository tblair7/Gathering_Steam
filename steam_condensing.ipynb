{
 "cells": [
  {
   "cell_type": "code",
   "execution_count": 2,
   "metadata": {},
   "outputs": [],
   "source": [
    "import pickle as pckl\n",
    "import seaborn as sb\n",
    "import pandas as pd\n",
    "from datetime import datetime"
   ]
  },
  {
   "cell_type": "code",
   "execution_count": 38,
   "metadata": {},
   "outputs": [],
   "source": [
    "data = pckl.load(open('monster_hunter_world.pckl','rb'))"
   ]
  },
  {
   "cell_type": "code",
   "execution_count": 39,
   "metadata": {},
   "outputs": [],
   "source": [
    "data2 = pd.DataFrame(data)"
   ]
  },
  {
   "cell_type": "code",
   "execution_count": 41,
   "metadata": {},
   "outputs": [
    {
     "data": {
      "text/plain": [
       "34221"
      ]
     },
     "execution_count": 41,
     "metadata": {},
     "output_type": "execute_result"
    }
   ],
   "source": [
    "len(data2)"
   ]
  },
  {
   "cell_type": "code",
   "execution_count": 42,
   "metadata": {},
   "outputs": [],
   "source": [
    "features_dict = {'review': 'review',\n",
    "                'voted_up': 'upvoted',\n",
    "                'votes_up': 'comment_upvotes',\n",
    "                'votes_funny': 'comment_funny_votes',\n",
    "                'written_during_early_access': 'early_review',\n",
    "                'timestamp_updated': 'time_of_review',\n",
    "                'author.playtime_forever': 'minutes_played',\n",
    "                'author.playtime_last_two_weeks': 'playtime_2weeks',\n",
    "                'author.last_played': 'last_played',\n",
    "                'author.num_games_owned': 'games_owned',\n",
    "                'author.num_reviews': 'author_reviews',\n",
    "                'steam_purchase': 'purchased',\n",
    "                'received_for_free': 'free'}\n",
    "\n",
    "features = list(features_dict.values())"
   ]
  },
  {
   "cell_type": "code",
   "execution_count": 43,
   "metadata": {},
   "outputs": [
    {
     "data": {
      "text/html": [
       "<div>\n",
       "<style scoped>\n",
       "    .dataframe tbody tr th:only-of-type {\n",
       "        vertical-align: middle;\n",
       "    }\n",
       "\n",
       "    .dataframe tbody tr th {\n",
       "        vertical-align: top;\n",
       "    }\n",
       "\n",
       "    .dataframe thead th {\n",
       "        text-align: right;\n",
       "    }\n",
       "</style>\n",
       "<table border=\"1\" class=\"dataframe\">\n",
       "  <thead>\n",
       "    <tr style=\"text-align: right;\">\n",
       "      <th></th>\n",
       "      <th>review</th>\n",
       "      <th>time_of_review</th>\n",
       "      <th>upvoted</th>\n",
       "    </tr>\n",
       "  </thead>\n",
       "  <tbody>\n",
       "    <tr>\n",
       "      <th>0</th>\n",
       "      <td>Runs great on maxed settings on my PC in the l...</td>\n",
       "      <td>1548893235</td>\n",
       "      <td>True</td>\n",
       "    </tr>\n",
       "    <tr>\n",
       "      <th>1</th>\n",
       "      <td>I've lost so many hours of my life playing thi...</td>\n",
       "      <td>1548892298</td>\n",
       "      <td>True</td>\n",
       "    </tr>\n",
       "    <tr>\n",
       "      <th>2</th>\n",
       "      <td>Dodogama is best boy.</td>\n",
       "      <td>1548892223</td>\n",
       "      <td>True</td>\n",
       "    </tr>\n",
       "    <tr>\n",
       "      <th>3</th>\n",
       "      <td>Edit 4: I'm officially going to change my revi...</td>\n",
       "      <td>1548891532</td>\n",
       "      <td>True</td>\n",
       "    </tr>\n",
       "    <tr>\n",
       "      <th>4</th>\n",
       "      <td>If you're into grinding and farming then this ...</td>\n",
       "      <td>1548890343</td>\n",
       "      <td>True</td>\n",
       "    </tr>\n",
       "  </tbody>\n",
       "</table>\n",
       "</div>"
      ],
      "text/plain": [
       "                                              review  time_of_review  upvoted\n",
       "0  Runs great on maxed settings on my PC in the l...      1548893235     True\n",
       "1  I've lost so many hours of my life playing thi...      1548892298     True\n",
       "2                              Dodogama is best boy.      1548892223     True\n",
       "3  Edit 4: I'm officially going to change my revi...      1548891532     True\n",
       "4  If you're into grinding and farming then this ...      1548890343     True"
      ]
     },
     "execution_count": 43,
     "metadata": {},
     "output_type": "execute_result"
    }
   ],
   "source": [
    "df = data2.rename(index=str, columns=features_dict)\n",
    "df = df.drop(columns = ['author', 'comment_count', 'language', 'free', \n",
    "                        'recommendationid', 'purchased', 'timestamp_created',\n",
    "                        'comment_funny_votes', 'comment_upvotes', 'weighted_vote_score',\n",
    "                       'early_review'])\n",
    "df.head()"
   ]
  },
  {
   "cell_type": "code",
   "execution_count": 44,
   "metadata": {},
   "outputs": [],
   "source": [
    "df['time_of_review_unix'] = df['time_of_review']"
   ]
  },
  {
   "cell_type": "code",
   "execution_count": 39,
   "metadata": {},
   "outputs": [],
   "source": [
    "#sorted_df['percent_upvotes'] = list(reversed(sorted_df['percent_upvotes']))"
   ]
  },
  {
   "cell_type": "code",
   "execution_count": 45,
   "metadata": {},
   "outputs": [],
   "source": [
    "#df['last_played'] = pd.to_datetime(df['last_played'], unit='s')\n",
    "df['time_of_review'] = pd.to_datetime(df['time_of_review_unix'], unit='s')\n",
    "sorted_df = df.sort_values(by='time_of_review',ascending=True)"
   ]
  },
  {
   "cell_type": "code",
   "execution_count": 46,
   "metadata": {},
   "outputs": [],
   "source": [
    "total_upvotes = 0\n",
    "upvotes = []\n",
    "total_votes = list(range(1,len(df)+1))\n",
    "\n",
    "for i in range(len(df)):\n",
    "    if sorted_df.iloc[i].upvoted == True:\n",
    "        total_upvotes += 1\n",
    "        upvotes.append(total_upvotes)\n",
    "    else:\n",
    "        upvotes.append(total_upvotes)\n",
    "        "
   ]
  },
  {
   "cell_type": "code",
   "execution_count": 47,
   "metadata": {},
   "outputs": [],
   "source": [
    "sorted_df['upvotes'] = upvotes\n",
    "sorted_df['total_votes'] = total_votes\n",
    "sorted_df['percent_upvotes'] = sorted_df['upvotes']/sorted_df['total_votes']"
   ]
  },
  {
   "cell_type": "code",
   "execution_count": 23,
   "metadata": {},
   "outputs": [],
   "source": [
    "#sorted_df = df.sort_values(by='time_of_review',ascending=True)\n",
    "\n",
    "#sorted_df['percent_upvotes'] = sorted_df['upvotes']/sorted_df['total_votes']\n",
    "#sorted_df.head()"
   ]
  },
  {
   "cell_type": "code",
   "execution_count": 48,
   "metadata": {},
   "outputs": [
    {
     "data": {
      "text/html": [
       "<div>\n",
       "<style scoped>\n",
       "    .dataframe tbody tr th:only-of-type {\n",
       "        vertical-align: middle;\n",
       "    }\n",
       "\n",
       "    .dataframe tbody tr th {\n",
       "        vertical-align: top;\n",
       "    }\n",
       "\n",
       "    .dataframe thead th {\n",
       "        text-align: right;\n",
       "    }\n",
       "</style>\n",
       "<table border=\"1\" class=\"dataframe\">\n",
       "  <thead>\n",
       "    <tr style=\"text-align: right;\">\n",
       "      <th></th>\n",
       "      <th>index</th>\n",
       "      <th>review</th>\n",
       "      <th>time_of_review</th>\n",
       "      <th>upvoted</th>\n",
       "      <th>time_of_review_unix</th>\n",
       "      <th>upvotes</th>\n",
       "      <th>total_votes</th>\n",
       "      <th>percent_upvotes</th>\n",
       "    </tr>\n",
       "  </thead>\n",
       "  <tbody>\n",
       "    <tr>\n",
       "      <th>0</th>\n",
       "      <td>34220</td>\n",
       "      <td>FIRST !</td>\n",
       "      <td>2018-08-09 16:21:56</td>\n",
       "      <td>True</td>\n",
       "      <td>1533831716</td>\n",
       "      <td>1</td>\n",
       "      <td>1</td>\n",
       "      <td>1.0</td>\n",
       "    </tr>\n",
       "    <tr>\n",
       "      <th>1</th>\n",
       "      <td>34219</td>\n",
       "      <td>10/10 would buy again</td>\n",
       "      <td>2018-08-09 16:22:41</td>\n",
       "      <td>True</td>\n",
       "      <td>1533831761</td>\n",
       "      <td>2</td>\n",
       "      <td>2</td>\n",
       "      <td>1.0</td>\n",
       "    </tr>\n",
       "    <tr>\n",
       "      <th>2</th>\n",
       "      <td>34218</td>\n",
       "      <td>Nice....</td>\n",
       "      <td>2018-08-09 16:22:52</td>\n",
       "      <td>True</td>\n",
       "      <td>1533831772</td>\n",
       "      <td>3</td>\n",
       "      <td>3</td>\n",
       "      <td>1.0</td>\n",
       "    </tr>\n",
       "    <tr>\n",
       "      <th>3</th>\n",
       "      <td>34217</td>\n",
       "      <td>1st</td>\n",
       "      <td>2018-08-09 16:24:58</td>\n",
       "      <td>True</td>\n",
       "      <td>1533831898</td>\n",
       "      <td>4</td>\n",
       "      <td>4</td>\n",
       "      <td>1.0</td>\n",
       "    </tr>\n",
       "    <tr>\n",
       "      <th>4</th>\n",
       "      <td>34216</td>\n",
       "      <td>Needs controller support for a positive review...</td>\n",
       "      <td>2018-08-09 16:26:01</td>\n",
       "      <td>False</td>\n",
       "      <td>1533831961</td>\n",
       "      <td>4</td>\n",
       "      <td>5</td>\n",
       "      <td>0.8</td>\n",
       "    </tr>\n",
       "  </tbody>\n",
       "</table>\n",
       "</div>"
      ],
      "text/plain": [
       "   index                                             review  \\\n",
       "0  34220                                            FIRST !   \n",
       "1  34219                              10/10 would buy again   \n",
       "2  34218                                           Nice....   \n",
       "3  34217                                                1st   \n",
       "4  34216  Needs controller support for a positive review...   \n",
       "\n",
       "       time_of_review  upvoted  time_of_review_unix  upvotes  total_votes  \\\n",
       "0 2018-08-09 16:21:56     True           1533831716        1            1   \n",
       "1 2018-08-09 16:22:41     True           1533831761        2            2   \n",
       "2 2018-08-09 16:22:52     True           1533831772        3            3   \n",
       "3 2018-08-09 16:24:58     True           1533831898        4            4   \n",
       "4 2018-08-09 16:26:01    False           1533831961        4            5   \n",
       "\n",
       "   percent_upvotes  \n",
       "0              1.0  \n",
       "1              1.0  \n",
       "2              1.0  \n",
       "3              1.0  \n",
       "4              0.8  "
      ]
     },
     "execution_count": 48,
     "metadata": {},
     "output_type": "execute_result"
    }
   ],
   "source": [
    "sorted_df = sorted_df.reset_index()\n",
    "sorted_df = sorted_df.drop(columns = ['index'])\n",
    "sorted_df.head()"
   ]
  },
  {
   "cell_type": "code",
   "execution_count": 54,
   "metadata": {},
   "outputs": [],
   "source": [
    "#sorted_df = pckl.load(open('NMS_sorted.pckl','rb'))"
   ]
  },
  {
   "cell_type": "code",
   "execution_count": 56,
   "metadata": {},
   "outputs": [],
   "source": [
    "\n",
    "#pckl.dump(sorted_df,open('NMS_sorted.pckl','wb'))"
   ]
  },
  {
   "cell_type": "code",
   "execution_count": 36,
   "metadata": {},
   "outputs": [],
   "source": [
    "import seaborn as sb\n",
    "import datetime\n",
    "import matplotlib\n",
    "import matplotlib.pyplot as plt\n",
    "import matplotlib.dates as mdates\n",
    "import matplotlib.cbook as cbook\n",
    "from matplotlib.dates import DateFormatter"
   ]
  },
  {
   "cell_type": "code",
   "execution_count": 50,
   "metadata": {
    "scrolled": false
   },
   "outputs": [
    {
     "data": {
      "image/png": "[encoded data removed]",
      "text/plain": [
       "<Figure size 1440x720 with 1 Axes>"
      ]
     },
     "metadata": {
      "needs_background": "light"
     },
     "output_type": "display_data"
    }
   ],
   "source": [
    "years = mdates.YearLocator()\n",
    "months = mdates.MonthLocator()\n",
    "yearsFmt = mdates.DateFormatter('%Y')\n",
    "\n",
    "date = sorted_df['time_of_review'].iloc[1000:]\n",
    "percent = sorted_df['percent_upvotes'].iloc[1000:]\n",
    "\n",
    "#ax = plt.figure(figsize=(20,10))\n",
    "fig, ax = plt.subplots(figsize=(20,10))\n",
    "\n",
    "ax.plot(date, percent)\n",
    "\n",
    "\n",
    "ax.xaxis.set_major_locator(years)\n",
    "ax.xaxis.set_major_formatter(yearsFmt)\n",
    "ax.xaxis.set_minor_locator(months)\n",
    "\n",
    "plt.ylabel('% upvotes')\n",
    "plt.title('Positive Reviews Over Time')\n",
    "\n",
    "plt.show()"
   ]
  },
  {
   "cell_type": "code",
   "execution_count": 61,
   "metadata": {},
   "outputs": [],
   "source": [
    "fig.savefig('ARK_percent_upvotes_over_time.png')"
   ]
  },
  {
   "cell_type": "code",
   "execution_count": 64,
   "metadata": {},
   "outputs": [],
   "source": [
    "import numpy as np"
   ]
  },
  {
   "cell_type": "code",
   "execution_count": 65,
   "metadata": {},
   "outputs": [
    {
     "ename": "TypeError",
     "evalue": "ufunc true_divide cannot use operands with types dtype('float64') and dtype('<m8[ns]')",
     "output_type": "error",
     "traceback": [
      "\u001b[0;31m---------------------------------------------------------------------------\u001b[0m",
      "\u001b[0;31mTypeError\u001b[0m                                 Traceback (most recent call last)",
      "\u001b[0;32m<ipython-input-65-c062cda48fab>\u001b[0m in \u001b[0;36m<module>\u001b[0;34m\u001b[0m\n\u001b[0;32m----> 1\u001b[0;31m \u001b[0mdata\u001b[0m\u001b[0;34m[\u001b[0m\u001b[0;34m'y_p'\u001b[0m\u001b[0;34m]\u001b[0m \u001b[0;34m=\u001b[0m \u001b[0mnp\u001b[0m\u001b[0;34m.\u001b[0m\u001b[0mdiff\u001b[0m\u001b[0;34m(\u001b[0m\u001b[0msorted_df\u001b[0m\u001b[0;34m[\u001b[0m\u001b[0;34m'percent_upvotes'\u001b[0m\u001b[0;34m]\u001b[0m\u001b[0;34m)\u001b[0m \u001b[0;34m/\u001b[0m \u001b[0mnp\u001b[0m\u001b[0;34m.\u001b[0m\u001b[0mdiff\u001b[0m\u001b[0;34m(\u001b[0m\u001b[0msorted_df\u001b[0m\u001b[0;34m[\u001b[0m\u001b[0;34m'time_of_review'\u001b[0m\u001b[0;34m]\u001b[0m\u001b[0;34m)\u001b[0m\u001b[0;34m\u001b[0m\u001b[0;34m\u001b[0m\u001b[0m\n\u001b[0m\u001b[1;32m      2\u001b[0m \u001b[0mdata\u001b[0m\u001b[0;34m[\u001b[0m\u001b[0;34m'x_p'\u001b[0m\u001b[0;34m]\u001b[0m \u001b[0;34m=\u001b[0m \u001b[0;34m(\u001b[0m\u001b[0mnp\u001b[0m\u001b[0;34m.\u001b[0m\u001b[0marray\u001b[0m\u001b[0;34m(\u001b[0m\u001b[0msorted_df\u001b[0m\u001b[0;34m[\u001b[0m\u001b[0;34m'time_of_review'\u001b[0m\u001b[0;34m]\u001b[0m\u001b[0;34m)\u001b[0m\u001b[0;34m[\u001b[0m\u001b[0;34m:\u001b[0m\u001b[0;34m-\u001b[0m\u001b[0;36m1\u001b[0m\u001b[0;34m]\u001b[0m \u001b[0;34m+\u001b[0m \u001b[0mnp\u001b[0m\u001b[0;34m.\u001b[0m\u001b[0marray\u001b[0m\u001b[0;34m(\u001b[0m\u001b[0msorted_df\u001b[0m\u001b[0;34m[\u001b[0m\u001b[0;34m'time_of_review'\u001b[0m\u001b[0;34m]\u001b[0m\u001b[0;34m)\u001b[0m\u001b[0;34m[\u001b[0m\u001b[0;36m1\u001b[0m\u001b[0;34m:\u001b[0m\u001b[0;34m]\u001b[0m\u001b[0;34m)\u001b[0m \u001b[0;34m/\u001b[0m \u001b[0;36m2\u001b[0m\u001b[0;34m\u001b[0m\u001b[0;34m\u001b[0m\u001b[0m\n",
      "\u001b[0;31mTypeError\u001b[0m: ufunc true_divide cannot use operands with types dtype('float64') and dtype('<m8[ns]')"
     ]
    }
   ],
   "source": [
    "data['y_p'] = np.diff(sorted_df['percent_upvotes']) / np.diff(sorted_df['time_of_review'])\n",
    "data['x_p'] = (np.array(sorted_df['time_of_review'])[:-1] + np.array(sorted_df['time_of_review'])[1:]) / 2"
   ]
  },
  {
   "cell_type": "code",
   "execution_count": null,
   "metadata": {},
   "outputs": [],
   "source": [
    "sorted_df.head()"
   ]
  },
  {
   "cell_type": "code",
   "execution_count": 68,
   "metadata": {},
   "outputs": [],
   "source": [
    "data_check = pckl.load(open('ARK.pckl','rb'))"
   ]
  },
  {
   "cell_type": "code",
   "execution_count": 69,
   "metadata": {},
   "outputs": [
    {
     "data": {
      "text/html": [
       "<div>\n",
       "<style scoped>\n",
       "    .dataframe tbody tr th:only-of-type {\n",
       "        vertical-align: middle;\n",
       "    }\n",
       "\n",
       "    .dataframe tbody tr th {\n",
       "        vertical-align: top;\n",
       "    }\n",
       "\n",
       "    .dataframe thead th {\n",
       "        text-align: right;\n",
       "    }\n",
       "</style>\n",
       "<table border=\"1\" class=\"dataframe\">\n",
       "  <thead>\n",
       "    <tr style=\"text-align: right;\">\n",
       "      <th></th>\n",
       "      <th>author.last_played</th>\n",
       "      <th>author.num_games_owned</th>\n",
       "      <th>author.num_reviews</th>\n",
       "      <th>author.playtime_forever</th>\n",
       "      <th>author.playtime_last_two_weeks</th>\n",
       "      <th>author.steamid</th>\n",
       "      <th>comment_count</th>\n",
       "      <th>language</th>\n",
       "      <th>received_for_free</th>\n",
       "      <th>recommendationid</th>\n",
       "      <th>review</th>\n",
       "      <th>steam_purchase</th>\n",
       "      <th>timestamp_created</th>\n",
       "      <th>timestamp_updated</th>\n",
       "      <th>voted_up</th>\n",
       "      <th>votes_funny</th>\n",
       "      <th>votes_up</th>\n",
       "      <th>weighted_vote_score</th>\n",
       "      <th>written_during_early_access</th>\n",
       "    </tr>\n",
       "  </thead>\n",
       "  <tbody>\n",
       "    <tr>\n",
       "      <th>0</th>\n",
       "      <td>1548014842</td>\n",
       "      <td>6</td>\n",
       "      <td>1</td>\n",
       "      <td>412</td>\n",
       "      <td>412</td>\n",
       "      <td>76561198846762449</td>\n",
       "      <td>0</td>\n",
       "      <td>english</td>\n",
       "      <td>False</td>\n",
       "      <td>48448687</td>\n",
       "      <td>Cool but  it completly ruined my Graphics Card...</td>\n",
       "      <td>True</td>\n",
       "      <td>1548014192</td>\n",
       "      <td>1548014192</td>\n",
       "      <td>False</td>\n",
       "      <td>1</td>\n",
       "      <td>0</td>\n",
       "      <td>0</td>\n",
       "      <td>False</td>\n",
       "    </tr>\n",
       "    <tr>\n",
       "      <th>1</th>\n",
       "      <td>1548017764</td>\n",
       "      <td>238</td>\n",
       "      <td>35</td>\n",
       "      <td>2235</td>\n",
       "      <td>2235</td>\n",
       "      <td>76561198008955625</td>\n",
       "      <td>0</td>\n",
       "      <td>english</td>\n",
       "      <td>False</td>\n",
       "      <td>48430381</td>\n",
       "      <td>After 30 hours of gameplay, this is how it was...</td>\n",
       "      <td>False</td>\n",
       "      <td>1547938970</td>\n",
       "      <td>1548013264</td>\n",
       "      <td>False</td>\n",
       "      <td>0</td>\n",
       "      <td>1</td>\n",
       "      <td>0.523809552192687988</td>\n",
       "      <td>False</td>\n",
       "    </tr>\n",
       "    <tr>\n",
       "      <th>2</th>\n",
       "      <td>1545131771</td>\n",
       "      <td>171</td>\n",
       "      <td>3</td>\n",
       "      <td>5473</td>\n",
       "      <td>0</td>\n",
       "      <td>76561197991488912</td>\n",
       "      <td>0</td>\n",
       "      <td>english</td>\n",
       "      <td>False</td>\n",
       "      <td>48447847</td>\n",
       "      <td>Made by the scummiest gaming company ever.</td>\n",
       "      <td>False</td>\n",
       "      <td>1548011162</td>\n",
       "      <td>1548011162</td>\n",
       "      <td>False</td>\n",
       "      <td>0</td>\n",
       "      <td>2</td>\n",
       "      <td>0.52173912525177002</td>\n",
       "      <td>False</td>\n",
       "    </tr>\n",
       "    <tr>\n",
       "      <th>3</th>\n",
       "      <td>1504742084</td>\n",
       "      <td>377</td>\n",
       "      <td>6</td>\n",
       "      <td>101</td>\n",
       "      <td>0</td>\n",
       "      <td>76561198013957136</td>\n",
       "      <td>0</td>\n",
       "      <td>english</td>\n",
       "      <td>False</td>\n",
       "      <td>48447210</td>\n",
       "      <td>\"Disk space required: 101093 mb\" oh my lord</td>\n",
       "      <td>False</td>\n",
       "      <td>1548008968</td>\n",
       "      <td>1548008968</td>\n",
       "      <td>False</td>\n",
       "      <td>1</td>\n",
       "      <td>0</td>\n",
       "      <td>0</td>\n",
       "      <td>False</td>\n",
       "    </tr>\n",
       "    <tr>\n",
       "      <th>4</th>\n",
       "      <td>1548017463</td>\n",
       "      <td>11</td>\n",
       "      <td>1</td>\n",
       "      <td>575</td>\n",
       "      <td>575</td>\n",
       "      <td>76561197993720855</td>\n",
       "      <td>0</td>\n",
       "      <td>english</td>\n",
       "      <td>False</td>\n",
       "      <td>48446867</td>\n",
       "      <td>So i have spent over 24 hours trying to log in...</td>\n",
       "      <td>True</td>\n",
       "      <td>1548007836</td>\n",
       "      <td>1548007836</td>\n",
       "      <td>False</td>\n",
       "      <td>0</td>\n",
       "      <td>1</td>\n",
       "      <td>0.523809552192687988</td>\n",
       "      <td>False</td>\n",
       "    </tr>\n",
       "  </tbody>\n",
       "</table>\n",
       "</div>"
      ],
      "text/plain": [
       "   author.last_played  author.num_games_owned  author.num_reviews  \\\n",
       "0          1548014842                       6                   1   \n",
       "1          1548017764                     238                  35   \n",
       "2          1545131771                     171                   3   \n",
       "3          1504742084                     377                   6   \n",
       "4          1548017463                      11                   1   \n",
       "\n",
       "   author.playtime_forever  author.playtime_last_two_weeks     author.steamid  \\\n",
       "0                      412                             412  76561198846762449   \n",
       "1                     2235                            2235  76561198008955625   \n",
       "2                     5473                               0  76561197991488912   \n",
       "3                      101                               0  76561198013957136   \n",
       "4                      575                             575  76561197993720855   \n",
       "\n",
       "   comment_count language  received_for_free recommendationid  \\\n",
       "0              0  english              False         48448687   \n",
       "1              0  english              False         48430381   \n",
       "2              0  english              False         48447847   \n",
       "3              0  english              False         48447210   \n",
       "4              0  english              False         48446867   \n",
       "\n",
       "                                              review  steam_purchase  \\\n",
       "0  Cool but  it completly ruined my Graphics Card...            True   \n",
       "1  After 30 hours of gameplay, this is how it was...           False   \n",
       "2         Made by the scummiest gaming company ever.           False   \n",
       "3        \"Disk space required: 101093 mb\" oh my lord           False   \n",
       "4  So i have spent over 24 hours trying to log in...            True   \n",
       "\n",
       "   timestamp_created  timestamp_updated  voted_up  votes_funny  votes_up  \\\n",
       "0         1548014192         1548014192     False            1         0   \n",
       "1         1547938970         1548013264     False            0         1   \n",
       "2         1548011162         1548011162     False            0         2   \n",
       "3         1548008968         1548008968     False            1         0   \n",
       "4         1548007836         1548007836     False            0         1   \n",
       "\n",
       "    weighted_vote_score  written_during_early_access  \n",
       "0                     0                        False  \n",
       "1  0.523809552192687988                        False  \n",
       "2   0.52173912525177002                        False  \n",
       "3                     0                        False  \n",
       "4  0.523809552192687988                        False  "
      ]
     },
     "execution_count": 69,
     "metadata": {},
     "output_type": "execute_result"
    }
   ],
   "source": [
    "data_check.head()"
   ]
  },
  {
   "cell_type": "code",
   "execution_count": 1,
   "metadata": {},
   "outputs": [
    {
     "ename": "NameError",
     "evalue": "name 'topics' is not defined",
     "output_type": "error",
     "traceback": [
      "\u001b[0;31m---------------------------------------------------------------------------\u001b[0m",
      "\u001b[0;31mNameError\u001b[0m                                 Traceback (most recent call last)",
      "\u001b[0;32m<ipython-input-1-c98f35067c2f>\u001b[0m in \u001b[0;36m<module>\u001b[0;34m\u001b[0m\n\u001b[0;32m----> 1\u001b[0;31m \u001b[0mtopics\u001b[0m\u001b[0;34m\u001b[0m\u001b[0;34m\u001b[0m\u001b[0m\n\u001b[0m",
      "\u001b[0;31mNameError\u001b[0m: name 'topics' is not defined"
     ]
    }
   ],
   "source": [
    "topics"
   ]
  },
  {
   "cell_type": "code",
   "execution_count": null,
   "metadata": {},
   "outputs": [],
   "source": [
    "        "
   ]
  }
 ],
 "metadata": {
  "kernelspec": {
   "display_name": "Python 3",
   "language": "python",
   "name": "python3"
  }
 },
 "nbformat": 4,
 "nbformat_minor": 2
}
