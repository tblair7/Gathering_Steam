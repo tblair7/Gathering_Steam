{
 "cells": [
  {
   "cell_type": "code",
   "execution_count": 13,
   "metadata": {},
   "outputs": [],
   "source": [
    "import pickle as pckl\n"
   ]
  },
  {
   "cell_type": "code",
   "execution_count": 14,
   "metadata": {},
   "outputs": [],
   "source": [
    "df = pckl.load(open('old_data/sorted_SSR_data.pckl','rb'))"
   ]
  },
  {
   "cell_type": "code",
   "execution_count": 15,
   "metadata": {},
   "outputs": [
    {
     "data": {
      "text/html": [
       "<div>\n",
       "<style scoped>\n",
       "    .dataframe tbody tr th:only-of-type {\n",
       "        vertical-align: middle;\n",
       "    }\n",
       "\n",
       "    .dataframe tbody tr th {\n",
       "        vertical-align: top;\n",
       "    }\n",
       "\n",
       "    .dataframe thead th {\n",
       "        text-align: right;\n",
       "    }\n",
       "</style>\n",
       "<table border=\"1\" class=\"dataframe\">\n",
       "  <thead>\n",
       "    <tr style=\"text-align: right;\">\n",
       "      <th></th>\n",
       "      <th>review</th>\n",
       "      <th>upvoted</th>\n",
       "      <th>comment_upvotes</th>\n",
       "      <th>comment_funny_votes</th>\n",
       "      <th>early_review</th>\n",
       "      <th>time_of_review</th>\n",
       "      <th>minutes_played</th>\n",
       "      <th>playtime_2weeks</th>\n",
       "      <th>last_played</th>\n",
       "      <th>games_owned</th>\n",
       "      <th>author_reviews</th>\n",
       "      <th>purchased</th>\n",
       "      <th>free</th>\n",
       "      <th>upvotes</th>\n",
       "      <th>total_votes</th>\n",
       "      <th>percent_upvotes</th>\n",
       "    </tr>\n",
       "  </thead>\n",
       "  <tbody>\n",
       "    <tr>\n",
       "      <th>475</th>\n",
       "      <td>Do not be fooled.\\nThis game will invade your ...</td>\n",
       "      <td>True</td>\n",
       "      <td>71</td>\n",
       "      <td>41</td>\n",
       "      <td>False</td>\n",
       "      <td>2016-04-18 07:48:44</td>\n",
       "      <td>330</td>\n",
       "      <td>0</td>\n",
       "      <td>2018-11-26 07:57:48</td>\n",
       "      <td>6501</td>\n",
       "      <td>132</td>\n",
       "      <td>False</td>\n",
       "      <td>False</td>\n",
       "      <td>1</td>\n",
       "      <td>1</td>\n",
       "      <td>1.0</td>\n",
       "    </tr>\n",
       "    <tr>\n",
       "      <th>474</th>\n",
       "      <td>One of the most challenging puzzle games out t...</td>\n",
       "      <td>True</td>\n",
       "      <td>34</td>\n",
       "      <td>20</td>\n",
       "      <td>False</td>\n",
       "      <td>2016-04-18 08:43:07</td>\n",
       "      <td>245</td>\n",
       "      <td>0</td>\n",
       "      <td>2016-04-18 08:48:29</td>\n",
       "      <td>361</td>\n",
       "      <td>10</td>\n",
       "      <td>False</td>\n",
       "      <td>False</td>\n",
       "      <td>2</td>\n",
       "      <td>2</td>\n",
       "      <td>1.0</td>\n",
       "    </tr>\n",
       "    <tr>\n",
       "      <th>473</th>\n",
       "      <td>You have to play the game to understand it and...</td>\n",
       "      <td>True</td>\n",
       "      <td>14</td>\n",
       "      <td>0</td>\n",
       "      <td>False</td>\n",
       "      <td>2016-04-18 11:00:45</td>\n",
       "      <td>1445</td>\n",
       "      <td>0</td>\n",
       "      <td>2016-05-26 17:03:53</td>\n",
       "      <td>67</td>\n",
       "      <td>1</td>\n",
       "      <td>True</td>\n",
       "      <td>False</td>\n",
       "      <td>3</td>\n",
       "      <td>3</td>\n",
       "      <td>1.0</td>\n",
       "    </tr>\n",
       "    <tr>\n",
       "      <th>472</th>\n",
       "      <td>This game, huh? What a package! \\n\\nRight from...</td>\n",
       "      <td>True</td>\n",
       "      <td>10</td>\n",
       "      <td>2</td>\n",
       "      <td>False</td>\n",
       "      <td>2016-04-18 12:27:56</td>\n",
       "      <td>400</td>\n",
       "      <td>0</td>\n",
       "      <td>2017-04-24 12:00:53</td>\n",
       "      <td>365</td>\n",
       "      <td>68</td>\n",
       "      <td>False</td>\n",
       "      <td>False</td>\n",
       "      <td>4</td>\n",
       "      <td>4</td>\n",
       "      <td>1.0</td>\n",
       "    </tr>\n",
       "    <tr>\n",
       "      <th>471</th>\n",
       "      <td>I bet you are wondering what this game is actu...</td>\n",
       "      <td>True</td>\n",
       "      <td>15</td>\n",
       "      <td>6</td>\n",
       "      <td>False</td>\n",
       "      <td>2016-04-18 12:38:16</td>\n",
       "      <td>4109</td>\n",
       "      <td>0</td>\n",
       "      <td>2017-02-15 17:05:17</td>\n",
       "      <td>493</td>\n",
       "      <td>3</td>\n",
       "      <td>False</td>\n",
       "      <td>False</td>\n",
       "      <td>5</td>\n",
       "      <td>5</td>\n",
       "      <td>1.0</td>\n",
       "    </tr>\n",
       "  </tbody>\n",
       "</table>\n",
       "</div>"
      ],
      "text/plain": [
       "                                                review  upvoted  \\\n",
       "475  Do not be fooled.\\nThis game will invade your ...     True   \n",
       "474  One of the most challenging puzzle games out t...     True   \n",
       "473  You have to play the game to understand it and...     True   \n",
       "472  This game, huh? What a package! \\n\\nRight from...     True   \n",
       "471  I bet you are wondering what this game is actu...     True   \n",
       "\n",
       "     comment_upvotes  comment_funny_votes  early_review      time_of_review  \\\n",
       "475               71                   41         False 2016-04-18 07:48:44   \n",
       "474               34                   20         False 2016-04-18 08:43:07   \n",
       "473               14                    0         False 2016-04-18 11:00:45   \n",
       "472               10                    2         False 2016-04-18 12:27:56   \n",
       "471               15                    6         False 2016-04-18 12:38:16   \n",
       "\n",
       "     minutes_played  playtime_2weeks         last_played  games_owned  \\\n",
       "475             330                0 2018-11-26 07:57:48         6501   \n",
       "474             245                0 2016-04-18 08:48:29          361   \n",
       "473            1445                0 2016-05-26 17:03:53           67   \n",
       "472             400                0 2017-04-24 12:00:53          365   \n",
       "471            4109                0 2017-02-15 17:05:17          493   \n",
       "\n",
       "     author_reviews  purchased   free  upvotes  total_votes  percent_upvotes  \n",
       "475             132      False  False        1            1              1.0  \n",
       "474              10      False  False        2            2              1.0  \n",
       "473               1       True  False        3            3              1.0  \n",
       "472              68      False  False        4            4              1.0  \n",
       "471               3      False  False        5            5              1.0  "
      ]
     },
     "execution_count": 15,
     "metadata": {},
     "output_type": "execute_result"
    }
   ],
   "source": [
    "df.head()"
   ]
  },
  {
   "cell_type": "code",
   "execution_count": 16,
   "metadata": {},
   "outputs": [
    {
     "data": {
      "text/plain": [
       "476"
      ]
     },
     "execution_count": 16,
     "metadata": {},
     "output_type": "execute_result"
    }
   ],
   "source": [
    "len(df)"
   ]
  },
  {
   "cell_type": "code",
   "execution_count": 9,
   "metadata": {},
   "outputs": [],
   "source": [
    "del df"
   ]
  },
  {
   "cell_type": "code",
   "execution_count": null,
   "metadata": {},
   "outputs": [],
   "source": []
  }
 ],
 "metadata": {
  "kernelspec": {
   "display_name": "Python 3",
   "language": "python",
   "name": "python3"
  },
  "language_info": {
   "codemirror_mode": {
    "name": "ipython",
    "version": 3
   },
   "file_extension": ".py",
   "mimetype": "text/x-python",
   "name": "python",
   "nbconvert_exporter": "python",
   "pygments_lexer": "ipython3",
   "version": "3.7.1"
  }
 },
 "nbformat": 4,
 "nbformat_minor": 2
}
